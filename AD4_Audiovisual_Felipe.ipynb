{
  "cells": [
    {
      "cell_type": "markdown",
      "metadata": {
        "id": "view-in-github",
        "colab_type": "text"
      },
      "source": [
        "<a href=\"https://colab.research.google.com/github/Felipedeor/AD4-Audiovisual/blob/main/AD4_Audiovisual_Felipe.ipynb\" target=\"_parent\"><img src=\"https://colab.research.google.com/assets/colab-badge.svg\" alt=\"Open In Colab\"/></a>"
      ]
    },
    {
      "cell_type": "code",
      "source": [
        "import pandas as pd\n",
        "import matplotlib.pyplot as plt\n"
      ],
      "metadata": {
        "id": "1bwMGUCA2W40"
      },
      "execution_count": null,
      "outputs": []
    },
    {
      "cell_type": "code",
      "execution_count": null,
      "metadata": {
        "id": "AjrrRW_trKPc"
      },
      "outputs": [],
      "source": [
        "#Realizando a consulta no BigQuery\n",
        "\n",
        "query_extracao = pd.read_csv('/content/bq-results-20240226-133932-1708954982880.csv')\n"
      ]
    },
    {
      "cell_type": "code",
      "execution_count": null,
      "metadata": {
        "id": "V8xKwoBRHsKd"
      },
      "outputs": [],
      "source": [
        "#Transformando a consulta em um dataframe do Pandas\n",
        "df = query_extracao"
      ]
    },
    {
      "cell_type": "code",
      "execution_count": null,
      "metadata": {
        "id": "lmsKDDZAIdGe"
      },
      "outputs": [],
      "source": [
        "#Convertendo o campo de data para o formato adequado\n",
        "df['snapshot_date'] = pd.to_datetime(df['snapshot_date'])\n",
        "\n",
        "#Filtrando pelo mês de janeiro de 2024\n",
        "df = df[(df['snapshot_date'] >= '2024-01-01') & (df['snapshot_date'] <= '2024-01-31')]"
      ]
    },
    {
      "cell_type": "code",
      "execution_count": null,
      "metadata": {
        "id": "VA6ZIMYpIg0f"
      },
      "outputs": [],
      "source": [
        "#Renomeando as colunas\n",
        "novos_nomes = {'snapshot_date':'data','name':'nome','artists':'artistas','daily_rank':'ranking_diario','daily_movement':'movimento_diario','weekly_movement':'movimento_semanal','popularity':'popularidade','is_explicit':'explicito','duration_ms':'duracao','album_release_date':'lancamento','energy':'energia'}\n",
        "df.rename(columns=novos_nomes, inplace=True)\n",
        "\n",
        "#convertendo o campo de lançamento para o formato correto\n",
        "df['lancamento'] = pd.to_datetime(df['lancamento'])\n",
        "display(df)\n",
        "\n"
      ]
    },
    {
      "cell_type": "code",
      "source": [
        "#Limpando as musicas duplicadas\n",
        "dfnd = df.drop_duplicates(subset=['nome'])\n",
        "display(dfnd)"
      ],
      "metadata": {
        "colab": {
          "base_uri": "https://localhost:8080/",
          "height": 999
        },
        "id": "nSFDplVu5PCp",
        "outputId": "b673f750-54e0-47a6-b2c7-8f1aeea19cf6"
      },
      "execution_count": null,
      "outputs": [
        {
          "output_type": "display_data",
          "data": {
            "text/plain": [
              "           data                                               nome  \\\n",
              "281  2024-01-31                        Baby Eu Tava na Rua da Água   \n",
              "282  2024-01-31                                       Ritmista 1.0   \n",
              "283  2024-01-31                        Nuuu Que Trem Bão - Ao vivo   \n",
              "284  2024-01-31                                      Sai Da Frente   \n",
              "285  2024-01-31                         Silverado (AgroPlay Verão)   \n",
              "...         ...                                                ...   \n",
              "6124 2024-01-31           Devia Ser Proibido - Ao Vivo Em Brasília   \n",
              "6253 2024-01-31         Quase Algo - Ao Vivo Em Nova Iorque / 2022   \n",
              "6333 2024-01-31         Solteiro Forçado - Boiadeira Internacional   \n",
              "6456 2024-01-31    Bênçãos Que Não Têm Fim (Counting My Blessings)   \n",
              "6553 2024-01-31  Me Leva Pra Casa / Escrito Nas Estrelas / Saud...   \n",
              "\n",
              "                                               artistas  ranking_diario  \\\n",
              "281                       TR, Mc Menor RV, Tropa da W&S              16   \n",
              "282   DJ WN, MC Hariel, MC Ryan SP, MC Paulin da Cap...              24   \n",
              "283                                       Léo & Raphael              31   \n",
              "284                                            Juliette              37   \n",
              "285                              AgroPlay, Luan Pereira              41   \n",
              "...                                                 ...             ...   \n",
              "6124                                 Henrique & Juliano              30   \n",
              "6253                                 Henrique & Juliano              42   \n",
              "6333                                        Ana Castela              33   \n",
              "6456                                     Isadora Pompeo              23   \n",
              "6553                                       Lauana Prado               4   \n",
              "\n",
              "      movimento_diario  movimento_semanal  popularidade  explicito  duracao  \\\n",
              "281                  5                 34            75       True   116307   \n",
              "282                  7                 26            78       True   615810   \n",
              "283                 13                 19            68      False   132247   \n",
              "284                 13                 -6            66      False   167445   \n",
              "285                 -1                  9            71      False   162194   \n",
              "...                ...                ...           ...        ...      ...   \n",
              "6124                -7                 -4            84      False   173967   \n",
              "6253                -7                 -3            72      False   178251   \n",
              "6333                -4                 -3            84      False   194582   \n",
              "6456                19                 -5            84      False   209520   \n",
              "6553                -2                 -1            89      False   265450   \n",
              "\n",
              "     lancamento  energia  \n",
              "281  2023-12-01    0.703  \n",
              "282  2023-11-22    0.510  \n",
              "283  2024-01-26    0.910  \n",
              "284  2023-08-25    0.815  \n",
              "285  2024-01-18    0.819  \n",
              "...         ...      ...  \n",
              "6124 2023-07-28    0.922  \n",
              "6253 2023-12-15    0.760  \n",
              "6333 2023-07-07    0.669  \n",
              "6456 2023-11-09    0.609  \n",
              "6553 2023-10-12    0.805  \n",
              "\n",
              "[78 rows x 11 columns]"
            ],
            "text/html": [
              "\n",
              "  <div id=\"df-9e8b2281-c41a-49fb-b9f2-080ea1c5e0a3\" class=\"colab-df-container\">\n",
              "    <div>\n",
              "<style scoped>\n",
              "    .dataframe tbody tr th:only-of-type {\n",
              "        vertical-align: middle;\n",
              "    }\n",
              "\n",
              "    .dataframe tbody tr th {\n",
              "        vertical-align: top;\n",
              "    }\n",
              "\n",
              "    .dataframe thead th {\n",
              "        text-align: right;\n",
              "    }\n",
              "</style>\n",
              "<table border=\"1\" class=\"dataframe\">\n",
              "  <thead>\n",
              "    <tr style=\"text-align: right;\">\n",
              "      <th></th>\n",
              "      <th>data</th>\n",
              "      <th>nome</th>\n",
              "      <th>artistas</th>\n",
              "      <th>ranking_diario</th>\n",
              "      <th>movimento_diario</th>\n",
              "      <th>movimento_semanal</th>\n",
              "      <th>popularidade</th>\n",
              "      <th>explicito</th>\n",
              "      <th>duracao</th>\n",
              "      <th>lancamento</th>\n",
              "      <th>energia</th>\n",
              "    </tr>\n",
              "  </thead>\n",
              "  <tbody>\n",
              "    <tr>\n",
              "      <th>281</th>\n",
              "      <td>2024-01-31</td>\n",
              "      <td>Baby Eu Tava na Rua da Água</td>\n",
              "      <td>TR, Mc Menor RV, Tropa da W&amp;S</td>\n",
              "      <td>16</td>\n",
              "      <td>5</td>\n",
              "      <td>34</td>\n",
              "      <td>75</td>\n",
              "      <td>True</td>\n",
              "      <td>116307</td>\n",
              "      <td>2023-12-01</td>\n",
              "      <td>0.703</td>\n",
              "    </tr>\n",
              "    <tr>\n",
              "      <th>282</th>\n",
              "      <td>2024-01-31</td>\n",
              "      <td>Ritmista 1.0</td>\n",
              "      <td>DJ WN, MC Hariel, MC Ryan SP, MC Paulin da Cap...</td>\n",
              "      <td>24</td>\n",
              "      <td>7</td>\n",
              "      <td>26</td>\n",
              "      <td>78</td>\n",
              "      <td>True</td>\n",
              "      <td>615810</td>\n",
              "      <td>2023-11-22</td>\n",
              "      <td>0.510</td>\n",
              "    </tr>\n",
              "    <tr>\n",
              "      <th>283</th>\n",
              "      <td>2024-01-31</td>\n",
              "      <td>Nuuu Que Trem Bão - Ao vivo</td>\n",
              "      <td>Léo &amp; Raphael</td>\n",
              "      <td>31</td>\n",
              "      <td>13</td>\n",
              "      <td>19</td>\n",
              "      <td>68</td>\n",
              "      <td>False</td>\n",
              "      <td>132247</td>\n",
              "      <td>2024-01-26</td>\n",
              "      <td>0.910</td>\n",
              "    </tr>\n",
              "    <tr>\n",
              "      <th>284</th>\n",
              "      <td>2024-01-31</td>\n",
              "      <td>Sai Da Frente</td>\n",
              "      <td>Juliette</td>\n",
              "      <td>37</td>\n",
              "      <td>13</td>\n",
              "      <td>-6</td>\n",
              "      <td>66</td>\n",
              "      <td>False</td>\n",
              "      <td>167445</td>\n",
              "      <td>2023-08-25</td>\n",
              "      <td>0.815</td>\n",
              "    </tr>\n",
              "    <tr>\n",
              "      <th>285</th>\n",
              "      <td>2024-01-31</td>\n",
              "      <td>Silverado (AgroPlay Verão)</td>\n",
              "      <td>AgroPlay, Luan Pereira</td>\n",
              "      <td>41</td>\n",
              "      <td>-1</td>\n",
              "      <td>9</td>\n",
              "      <td>71</td>\n",
              "      <td>False</td>\n",
              "      <td>162194</td>\n",
              "      <td>2024-01-18</td>\n",
              "      <td>0.819</td>\n",
              "    </tr>\n",
              "    <tr>\n",
              "      <th>...</th>\n",
              "      <td>...</td>\n",
              "      <td>...</td>\n",
              "      <td>...</td>\n",
              "      <td>...</td>\n",
              "      <td>...</td>\n",
              "      <td>...</td>\n",
              "      <td>...</td>\n",
              "      <td>...</td>\n",
              "      <td>...</td>\n",
              "      <td>...</td>\n",
              "      <td>...</td>\n",
              "    </tr>\n",
              "    <tr>\n",
              "      <th>6124</th>\n",
              "      <td>2024-01-31</td>\n",
              "      <td>Devia Ser Proibido - Ao Vivo Em Brasília</td>\n",
              "      <td>Henrique &amp; Juliano</td>\n",
              "      <td>30</td>\n",
              "      <td>-7</td>\n",
              "      <td>-4</td>\n",
              "      <td>84</td>\n",
              "      <td>False</td>\n",
              "      <td>173967</td>\n",
              "      <td>2023-07-28</td>\n",
              "      <td>0.922</td>\n",
              "    </tr>\n",
              "    <tr>\n",
              "      <th>6253</th>\n",
              "      <td>2024-01-31</td>\n",
              "      <td>Quase Algo - Ao Vivo Em Nova Iorque / 2022</td>\n",
              "      <td>Henrique &amp; Juliano</td>\n",
              "      <td>42</td>\n",
              "      <td>-7</td>\n",
              "      <td>-3</td>\n",
              "      <td>72</td>\n",
              "      <td>False</td>\n",
              "      <td>178251</td>\n",
              "      <td>2023-12-15</td>\n",
              "      <td>0.760</td>\n",
              "    </tr>\n",
              "    <tr>\n",
              "      <th>6333</th>\n",
              "      <td>2024-01-31</td>\n",
              "      <td>Solteiro Forçado - Boiadeira Internacional</td>\n",
              "      <td>Ana Castela</td>\n",
              "      <td>33</td>\n",
              "      <td>-4</td>\n",
              "      <td>-3</td>\n",
              "      <td>84</td>\n",
              "      <td>False</td>\n",
              "      <td>194582</td>\n",
              "      <td>2023-07-07</td>\n",
              "      <td>0.669</td>\n",
              "    </tr>\n",
              "    <tr>\n",
              "      <th>6456</th>\n",
              "      <td>2024-01-31</td>\n",
              "      <td>Bênçãos Que Não Têm Fim (Counting My Blessings)</td>\n",
              "      <td>Isadora Pompeo</td>\n",
              "      <td>23</td>\n",
              "      <td>19</td>\n",
              "      <td>-5</td>\n",
              "      <td>84</td>\n",
              "      <td>False</td>\n",
              "      <td>209520</td>\n",
              "      <td>2023-11-09</td>\n",
              "      <td>0.609</td>\n",
              "    </tr>\n",
              "    <tr>\n",
              "      <th>6553</th>\n",
              "      <td>2024-01-31</td>\n",
              "      <td>Me Leva Pra Casa / Escrito Nas Estrelas / Saud...</td>\n",
              "      <td>Lauana Prado</td>\n",
              "      <td>4</td>\n",
              "      <td>-2</td>\n",
              "      <td>-1</td>\n",
              "      <td>89</td>\n",
              "      <td>False</td>\n",
              "      <td>265450</td>\n",
              "      <td>2023-10-12</td>\n",
              "      <td>0.805</td>\n",
              "    </tr>\n",
              "  </tbody>\n",
              "</table>\n",
              "<p>78 rows × 11 columns</p>\n",
              "</div>\n",
              "    <div class=\"colab-df-buttons\">\n",
              "\n",
              "  <div class=\"colab-df-container\">\n",
              "    <button class=\"colab-df-convert\" onclick=\"convertToInteractive('df-9e8b2281-c41a-49fb-b9f2-080ea1c5e0a3')\"\n",
              "            title=\"Convert this dataframe to an interactive table.\"\n",
              "            style=\"display:none;\">\n",
              "\n",
              "  <svg xmlns=\"http://www.w3.org/2000/svg\" height=\"24px\" viewBox=\"0 -960 960 960\">\n",
              "    <path d=\"M120-120v-720h720v720H120Zm60-500h600v-160H180v160Zm220 220h160v-160H400v160Zm0 220h160v-160H400v160ZM180-400h160v-160H180v160Zm440 0h160v-160H620v160ZM180-180h160v-160H180v160Zm440 0h160v-160H620v160Z\"/>\n",
              "  </svg>\n",
              "    </button>\n",
              "\n",
              "  <style>\n",
              "    .colab-df-container {\n",
              "      display:flex;\n",
              "      gap: 12px;\n",
              "    }\n",
              "\n",
              "    .colab-df-convert {\n",
              "      background-color: #E8F0FE;\n",
              "      border: none;\n",
              "      border-radius: 50%;\n",
              "      cursor: pointer;\n",
              "      display: none;\n",
              "      fill: #1967D2;\n",
              "      height: 32px;\n",
              "      padding: 0 0 0 0;\n",
              "      width: 32px;\n",
              "    }\n",
              "\n",
              "    .colab-df-convert:hover {\n",
              "      background-color: #E2EBFA;\n",
              "      box-shadow: 0px 1px 2px rgba(60, 64, 67, 0.3), 0px 1px 3px 1px rgba(60, 64, 67, 0.15);\n",
              "      fill: #174EA6;\n",
              "    }\n",
              "\n",
              "    .colab-df-buttons div {\n",
              "      margin-bottom: 4px;\n",
              "    }\n",
              "\n",
              "    [theme=dark] .colab-df-convert {\n",
              "      background-color: #3B4455;\n",
              "      fill: #D2E3FC;\n",
              "    }\n",
              "\n",
              "    [theme=dark] .colab-df-convert:hover {\n",
              "      background-color: #434B5C;\n",
              "      box-shadow: 0px 1px 3px 1px rgba(0, 0, 0, 0.15);\n",
              "      filter: drop-shadow(0px 1px 2px rgba(0, 0, 0, 0.3));\n",
              "      fill: #FFFFFF;\n",
              "    }\n",
              "  </style>\n",
              "\n",
              "    <script>\n",
              "      const buttonEl =\n",
              "        document.querySelector('#df-9e8b2281-c41a-49fb-b9f2-080ea1c5e0a3 button.colab-df-convert');\n",
              "      buttonEl.style.display =\n",
              "        google.colab.kernel.accessAllowed ? 'block' : 'none';\n",
              "\n",
              "      async function convertToInteractive(key) {\n",
              "        const element = document.querySelector('#df-9e8b2281-c41a-49fb-b9f2-080ea1c5e0a3');\n",
              "        const dataTable =\n",
              "          await google.colab.kernel.invokeFunction('convertToInteractive',\n",
              "                                                    [key], {});\n",
              "        if (!dataTable) return;\n",
              "\n",
              "        const docLinkHtml = 'Like what you see? Visit the ' +\n",
              "          '<a target=\"_blank\" href=https://colab.research.google.com/notebooks/data_table.ipynb>data table notebook</a>'\n",
              "          + ' to learn more about interactive tables.';\n",
              "        element.innerHTML = '';\n",
              "        dataTable['output_type'] = 'display_data';\n",
              "        await google.colab.output.renderOutput(dataTable, element);\n",
              "        const docLink = document.createElement('div');\n",
              "        docLink.innerHTML = docLinkHtml;\n",
              "        element.appendChild(docLink);\n",
              "      }\n",
              "    </script>\n",
              "  </div>\n",
              "\n",
              "\n",
              "<div id=\"df-fc18f2fe-53ff-4f28-97ce-cfe2cc07c7db\">\n",
              "  <button class=\"colab-df-quickchart\" onclick=\"quickchart('df-fc18f2fe-53ff-4f28-97ce-cfe2cc07c7db')\"\n",
              "            title=\"Suggest charts\"\n",
              "            style=\"display:none;\">\n",
              "\n",
              "<svg xmlns=\"http://www.w3.org/2000/svg\" height=\"24px\"viewBox=\"0 0 24 24\"\n",
              "     width=\"24px\">\n",
              "    <g>\n",
              "        <path d=\"M19 3H5c-1.1 0-2 .9-2 2v14c0 1.1.9 2 2 2h14c1.1 0 2-.9 2-2V5c0-1.1-.9-2-2-2zM9 17H7v-7h2v7zm4 0h-2V7h2v10zm4 0h-2v-4h2v4z\"/>\n",
              "    </g>\n",
              "</svg>\n",
              "  </button>\n",
              "\n",
              "<style>\n",
              "  .colab-df-quickchart {\n",
              "      --bg-color: #E8F0FE;\n",
              "      --fill-color: #1967D2;\n",
              "      --hover-bg-color: #E2EBFA;\n",
              "      --hover-fill-color: #174EA6;\n",
              "      --disabled-fill-color: #AAA;\n",
              "      --disabled-bg-color: #DDD;\n",
              "  }\n",
              "\n",
              "  [theme=dark] .colab-df-quickchart {\n",
              "      --bg-color: #3B4455;\n",
              "      --fill-color: #D2E3FC;\n",
              "      --hover-bg-color: #434B5C;\n",
              "      --hover-fill-color: #FFFFFF;\n",
              "      --disabled-bg-color: #3B4455;\n",
              "      --disabled-fill-color: #666;\n",
              "  }\n",
              "\n",
              "  .colab-df-quickchart {\n",
              "    background-color: var(--bg-color);\n",
              "    border: none;\n",
              "    border-radius: 50%;\n",
              "    cursor: pointer;\n",
              "    display: none;\n",
              "    fill: var(--fill-color);\n",
              "    height: 32px;\n",
              "    padding: 0;\n",
              "    width: 32px;\n",
              "  }\n",
              "\n",
              "  .colab-df-quickchart:hover {\n",
              "    background-color: var(--hover-bg-color);\n",
              "    box-shadow: 0 1px 2px rgba(60, 64, 67, 0.3), 0 1px 3px 1px rgba(60, 64, 67, 0.15);\n",
              "    fill: var(--button-hover-fill-color);\n",
              "  }\n",
              "\n",
              "  .colab-df-quickchart-complete:disabled,\n",
              "  .colab-df-quickchart-complete:disabled:hover {\n",
              "    background-color: var(--disabled-bg-color);\n",
              "    fill: var(--disabled-fill-color);\n",
              "    box-shadow: none;\n",
              "  }\n",
              "\n",
              "  .colab-df-spinner {\n",
              "    border: 2px solid var(--fill-color);\n",
              "    border-color: transparent;\n",
              "    border-bottom-color: var(--fill-color);\n",
              "    animation:\n",
              "      spin 1s steps(1) infinite;\n",
              "  }\n",
              "\n",
              "  @keyframes spin {\n",
              "    0% {\n",
              "      border-color: transparent;\n",
              "      border-bottom-color: var(--fill-color);\n",
              "      border-left-color: var(--fill-color);\n",
              "    }\n",
              "    20% {\n",
              "      border-color: transparent;\n",
              "      border-left-color: var(--fill-color);\n",
              "      border-top-color: var(--fill-color);\n",
              "    }\n",
              "    30% {\n",
              "      border-color: transparent;\n",
              "      border-left-color: var(--fill-color);\n",
              "      border-top-color: var(--fill-color);\n",
              "      border-right-color: var(--fill-color);\n",
              "    }\n",
              "    40% {\n",
              "      border-color: transparent;\n",
              "      border-right-color: var(--fill-color);\n",
              "      border-top-color: var(--fill-color);\n",
              "    }\n",
              "    60% {\n",
              "      border-color: transparent;\n",
              "      border-right-color: var(--fill-color);\n",
              "    }\n",
              "    80% {\n",
              "      border-color: transparent;\n",
              "      border-right-color: var(--fill-color);\n",
              "      border-bottom-color: var(--fill-color);\n",
              "    }\n",
              "    90% {\n",
              "      border-color: transparent;\n",
              "      border-bottom-color: var(--fill-color);\n",
              "    }\n",
              "  }\n",
              "</style>\n",
              "\n",
              "  <script>\n",
              "    async function quickchart(key) {\n",
              "      const quickchartButtonEl =\n",
              "        document.querySelector('#' + key + ' button');\n",
              "      quickchartButtonEl.disabled = true;  // To prevent multiple clicks.\n",
              "      quickchartButtonEl.classList.add('colab-df-spinner');\n",
              "      try {\n",
              "        const charts = await google.colab.kernel.invokeFunction(\n",
              "            'suggestCharts', [key], {});\n",
              "      } catch (error) {\n",
              "        console.error('Error during call to suggestCharts:', error);\n",
              "      }\n",
              "      quickchartButtonEl.classList.remove('colab-df-spinner');\n",
              "      quickchartButtonEl.classList.add('colab-df-quickchart-complete');\n",
              "    }\n",
              "    (() => {\n",
              "      let quickchartButtonEl =\n",
              "        document.querySelector('#df-fc18f2fe-53ff-4f28-97ce-cfe2cc07c7db button');\n",
              "      quickchartButtonEl.style.display =\n",
              "        google.colab.kernel.accessAllowed ? 'block' : 'none';\n",
              "    })();\n",
              "  </script>\n",
              "</div>\n",
              "\n",
              "  <div id=\"id_7b8ee3f6-66bd-49b3-a637-90b90c2111c9\">\n",
              "    <style>\n",
              "      .colab-df-generate {\n",
              "        background-color: #E8F0FE;\n",
              "        border: none;\n",
              "        border-radius: 50%;\n",
              "        cursor: pointer;\n",
              "        display: none;\n",
              "        fill: #1967D2;\n",
              "        height: 32px;\n",
              "        padding: 0 0 0 0;\n",
              "        width: 32px;\n",
              "      }\n",
              "\n",
              "      .colab-df-generate:hover {\n",
              "        background-color: #E2EBFA;\n",
              "        box-shadow: 0px 1px 2px rgba(60, 64, 67, 0.3), 0px 1px 3px 1px rgba(60, 64, 67, 0.15);\n",
              "        fill: #174EA6;\n",
              "      }\n",
              "\n",
              "      [theme=dark] .colab-df-generate {\n",
              "        background-color: #3B4455;\n",
              "        fill: #D2E3FC;\n",
              "      }\n",
              "\n",
              "      [theme=dark] .colab-df-generate:hover {\n",
              "        background-color: #434B5C;\n",
              "        box-shadow: 0px 1px 3px 1px rgba(0, 0, 0, 0.15);\n",
              "        filter: drop-shadow(0px 1px 2px rgba(0, 0, 0, 0.3));\n",
              "        fill: #FFFFFF;\n",
              "      }\n",
              "    </style>\n",
              "    <button class=\"colab-df-generate\" onclick=\"generateWithVariable('dfnd')\"\n",
              "            title=\"Generate code using this dataframe.\"\n",
              "            style=\"display:none;\">\n",
              "\n",
              "  <svg xmlns=\"http://www.w3.org/2000/svg\" height=\"24px\"viewBox=\"0 0 24 24\"\n",
              "       width=\"24px\">\n",
              "    <path d=\"M7,19H8.4L18.45,9,17,7.55,7,17.6ZM5,21V16.75L18.45,3.32a2,2,0,0,1,2.83,0l1.4,1.43a1.91,1.91,0,0,1,.58,1.4,1.91,1.91,0,0,1-.58,1.4L9.25,21ZM18.45,9,17,7.55Zm-12,3A5.31,5.31,0,0,0,4.9,8.1,5.31,5.31,0,0,0,1,6.5,5.31,5.31,0,0,0,4.9,4.9,5.31,5.31,0,0,0,6.5,1,5.31,5.31,0,0,0,8.1,4.9,5.31,5.31,0,0,0,12,6.5,5.46,5.46,0,0,0,6.5,12Z\"/>\n",
              "  </svg>\n",
              "    </button>\n",
              "    <script>\n",
              "      (() => {\n",
              "      const buttonEl =\n",
              "        document.querySelector('#id_7b8ee3f6-66bd-49b3-a637-90b90c2111c9 button.colab-df-generate');\n",
              "      buttonEl.style.display =\n",
              "        google.colab.kernel.accessAllowed ? 'block' : 'none';\n",
              "\n",
              "      buttonEl.onclick = () => {\n",
              "        google.colab.notebook.generateWithVariable('dfnd');\n",
              "      }\n",
              "      })();\n",
              "    </script>\n",
              "  </div>\n",
              "\n",
              "    </div>\n",
              "  </div>\n"
            ],
            "application/vnd.google.colaboratory.intrinsic+json": {
              "type": "dataframe",
              "variable_name": "dfnd",
              "summary": "{\n  \"name\": \"dfnd\",\n  \"rows\": 78,\n  \"fields\": [\n    {\n      \"column\": \"data\",\n      \"properties\": {\n        \"dtype\": \"date\",\n        \"min\": \"2024-01-06 00:00:00\",\n        \"max\": \"2024-01-31 00:00:00\",\n        \"num_unique_values\": 16,\n        \"samples\": [\n          \"2024-01-31 00:00:00\",\n          \"2024-01-30 00:00:00\",\n          \"2024-01-20 00:00:00\"\n        ],\n        \"semantic_type\": \"\",\n        \"description\": \"\"\n      }\n    },\n    {\n      \"column\": \"nome\",\n      \"properties\": {\n        \"dtype\": \"string\",\n        \"num_unique_values\": 78,\n        \"samples\": [\n          \"Dia de Fluxo\",\n          \"Baby Eu Tava na Rua da \\u00c1gua\",\n          \"Joga Pra Lua\"\n        ],\n        \"semantic_type\": \"\",\n        \"description\": \"\"\n      }\n    },\n    {\n      \"column\": \"artistas\",\n      \"properties\": {\n        \"dtype\": \"string\",\n        \"num_unique_values\": 73,\n        \"samples\": [\n          \"AgroPlay, Luan Pereira\",\n          \"Israel & Rodolffo, Mc Don Juan, Jo\\u00e3o Gomes\",\n          \"JC NO BEAT, DJ F7, MC Meno Dani, Silva Mc\"\n        ],\n        \"semantic_type\": \"\",\n        \"description\": \"\"\n      }\n    },\n    {\n      \"column\": \"ranking_diario\",\n      \"properties\": {\n        \"dtype\": \"number\",\n        \"std\": 15,\n        \"min\": 1,\n        \"max\": 50,\n        \"num_unique_values\": 50,\n        \"samples\": [\n          40,\n          25,\n          15\n        ],\n        \"semantic_type\": \"\",\n        \"description\": \"\"\n      }\n    },\n    {\n      \"column\": \"movimento_diario\",\n      \"properties\": {\n        \"dtype\": \"number\",\n        \"std\": 9,\n        \"min\": -28,\n        \"max\": 27,\n        \"num_unique_values\": 30,\n        \"samples\": [\n          -17,\n          -12,\n          -10\n        ],\n        \"semantic_type\": \"\",\n        \"description\": \"\"\n      }\n    },\n    {\n      \"column\": \"movimento_semanal\",\n      \"properties\": {\n        \"dtype\": \"number\",\n        \"std\": 12,\n        \"min\": -45,\n        \"max\": 44,\n        \"num_unique_values\": 36,\n        \"samples\": [\n          -20,\n          22,\n          7\n        ],\n        \"semantic_type\": \"\",\n        \"description\": \"\"\n      }\n    },\n    {\n      \"column\": \"popularidade\",\n      \"properties\": {\n        \"dtype\": \"number\",\n        \"std\": 8,\n        \"min\": 38,\n        \"max\": 94,\n        \"num_unique_values\": 27,\n        \"samples\": [\n          94,\n          72,\n          38\n        ],\n        \"semantic_type\": \"\",\n        \"description\": \"\"\n      }\n    },\n    {\n      \"column\": \"explicito\",\n      \"properties\": {\n        \"dtype\": \"boolean\",\n        \"num_unique_values\": 2,\n        \"samples\": [\n          false,\n          true\n        ],\n        \"semantic_type\": \"\",\n        \"description\": \"\"\n      }\n    },\n    {\n      \"column\": \"duracao\",\n      \"properties\": {\n        \"dtype\": \"number\",\n        \"std\": 97799,\n        \"min\": 92093,\n        \"max\": 680816,\n        \"num_unique_values\": 78,\n        \"samples\": [\n          133610,\n          116307\n        ],\n        \"semantic_type\": \"\",\n        \"description\": \"\"\n      }\n    },\n    {\n      \"column\": \"lancamento\",\n      \"properties\": {\n        \"dtype\": \"date\",\n        \"min\": \"2023-01-20 00:00:00\",\n        \"max\": \"2024-01-26 00:00:00\",\n        \"num_unique_values\": 55,\n        \"samples\": [\n          \"2023-11-15 00:00:00\",\n          \"2023-12-24 00:00:00\"\n        ],\n        \"semantic_type\": \"\",\n        \"description\": \"\"\n      }\n    },\n    {\n      \"column\": \"energia\",\n      \"properties\": {\n        \"dtype\": \"number\",\n        \"std\": 0.14901027907518083,\n        \"min\": 0.228,\n        \"max\": 0.96,\n        \"num_unique_values\": 75,\n        \"samples\": [\n          0.819,\n          0.871\n        ],\n        \"semantic_type\": \"\",\n        \"description\": \"\"\n      }\n    }\n  ]\n}"
            }
          },
          "metadata": {}
        }
      ]
    },
    {
      "cell_type": "code",
      "source": [
        "# prompt: faça download do dfnd como planilha\n",
        "from google.colab import files\n",
        "\n",
        "dfnd.to_csv('dfnd.csv')\n",
        "files.download('dfnd.csv')\n"
      ],
      "metadata": {
        "colab": {
          "base_uri": "https://localhost:8080/",
          "height": 17
        },
        "id": "KqaC3c8FPghy",
        "outputId": "001b87e9-2320-45bd-9446-8f2982c36307"
      },
      "execution_count": null,
      "outputs": [
        {
          "output_type": "display_data",
          "data": {
            "text/plain": [
              "<IPython.core.display.Javascript object>"
            ],
            "application/javascript": [
              "\n",
              "    async function download(id, filename, size) {\n",
              "      if (!google.colab.kernel.accessAllowed) {\n",
              "        return;\n",
              "      }\n",
              "      const div = document.createElement('div');\n",
              "      const label = document.createElement('label');\n",
              "      label.textContent = `Downloading \"${filename}\": `;\n",
              "      div.appendChild(label);\n",
              "      const progress = document.createElement('progress');\n",
              "      progress.max = size;\n",
              "      div.appendChild(progress);\n",
              "      document.body.appendChild(div);\n",
              "\n",
              "      const buffers = [];\n",
              "      let downloaded = 0;\n",
              "\n",
              "      const channel = await google.colab.kernel.comms.open(id);\n",
              "      // Send a message to notify the kernel that we're ready.\n",
              "      channel.send({})\n",
              "\n",
              "      for await (const message of channel.messages) {\n",
              "        // Send a message to notify the kernel that we're ready.\n",
              "        channel.send({})\n",
              "        if (message.buffers) {\n",
              "          for (const buffer of message.buffers) {\n",
              "            buffers.push(buffer);\n",
              "            downloaded += buffer.byteLength;\n",
              "            progress.value = downloaded;\n",
              "          }\n",
              "        }\n",
              "      }\n",
              "      const blob = new Blob(buffers, {type: 'application/binary'});\n",
              "      const a = document.createElement('a');\n",
              "      a.href = window.URL.createObjectURL(blob);\n",
              "      a.download = filename;\n",
              "      div.appendChild(a);\n",
              "      a.click();\n",
              "      div.remove();\n",
              "    }\n",
              "  "
            ]
          },
          "metadata": {}
        },
        {
          "output_type": "display_data",
          "data": {
            "text/plain": [
              "<IPython.core.display.Javascript object>"
            ],
            "application/javascript": [
              "download(\"download_fffae3e5-0904-4bb2-86ab-80272f5bdcc9\", \"dfnd.csv\", 8825)"
            ]
          },
          "metadata": {}
        }
      ]
    },
    {
      "cell_type": "code",
      "source": [
        "#Gerando um gráfico de dispersão entre a energia da música e a popularidade\n",
        "\n",
        "x = dfnd['energia']\n",
        "y = dfnd['popularidade']\n",
        "plt.scatter(x, y, c = y, cmap='turbo')\n",
        "\n",
        "plt.title('Relação da popularidade da música em função da sua vibe: ')\n",
        "plt.xlabel('energia')\n",
        "plt.ylabel('popularidade')\n"
      ],
      "metadata": {
        "colab": {
          "base_uri": "https://localhost:8080/",
          "height": 489
        },
        "id": "pGJ-z_CJBXfY",
        "outputId": "066c687f-9fc3-4bec-fafc-73276fe7a946"
      },
      "execution_count": null,
      "outputs": [
        {
          "output_type": "execute_result",
          "data": {
            "text/plain": [
              "Text(0, 0.5, 'popularidade')"
            ]
          },
          "metadata": {},
          "execution_count": 10
        },
        {
          "output_type": "display_data",
          "data": {
            "text/plain": [
              "<Figure size 640x480 with 1 Axes>"
            ],
            "image/png": "[encoded data removed]"
          },
          "metadata": {}
        }
      ]
    },
    {
      "cell_type": "code",
      "source": [
        "#contando quantas músicas são explicitas:\n",
        "dfnd.groupby('explicito').size()"
      ],
      "metadata": {
        "colab": {
          "base_uri": "https://localhost:8080/"
        },
        "id": "0JRW5DapQ7Ry",
        "outputId": "4c54980a-96ab-47e1-f4f3-c063cc44df4a"
      },
      "execution_count": null,
      "outputs": [
        {
          "output_type": "execute_result",
          "data": {
            "text/plain": [
              "explicito\n",
              "False    59\n",
              "True     19\n",
              "dtype: int64"
            ]
          },
          "metadata": {},
          "execution_count": 11
        }
      ]
    },
    {
      "cell_type": "code",
      "source": [
        "#Musicas explicitas que são populares\n",
        "\n",
        "explicitas_populares = dfnd[(dfnd['explicito'] == True) & (dfnd['popularidade'] >= 85)]\n",
        "num_explicitas_populares = len(explicitas_populares)\n",
        "print(f'Número de músicas explícitas e populares: {num_explicitas_populares}')\n"
      ],
      "metadata": {
        "colab": {
          "base_uri": "https://localhost:8080/"
        },
        "id": "OjLwEYyyAQIQ",
        "outputId": "052e3cef-9eef-4c1b-e241-66154fbe97f1"
      },
      "execution_count": null,
      "outputs": [
        {
          "output_type": "stream",
          "name": "stdout",
          "text": [
            "Número de músicas explícitas e populares: 8\n"
          ]
        }
      ]
    },
    {
      "cell_type": "code",
      "source": [
        "#Musicas não-explicitas que são populares\n",
        "\n",
        "n_explicitas_populares = dfnd[(dfnd['explicito'] == False) & (dfnd['popularidade'] >= 85)]\n",
        "num_n_explicitas_populares = len(n_explicitas_populares)\n",
        "print(f'Número de músicas não-explícitas e populares: {num_n_explicitas_populares}')\n"
      ],
      "metadata": {
        "colab": {
          "base_uri": "https://localhost:8080/"
        },
        "id": "KdKLwJ8hBgm3",
        "outputId": "a9c4210e-0b54-4223-c0db-911569cb27ee"
      },
      "execution_count": null,
      "outputs": [
        {
          "output_type": "stream",
          "name": "stdout",
          "text": [
            "Número de músicas não-explícitas e populares: 9\n"
          ]
        }
      ]
    },
    {
      "cell_type": "code",
      "source": [
        "#Gráfico comparativo das músicas explicitas e não-explicitas\n",
        "\n",
        "labels = ['Não-explícitas', 'Explícitas']\n",
        "values = [num_n_explicitas_populares, num_explicitas_populares]\n",
        "\n",
        "fig, ax = plt.subplots()\n",
        "ax.bar(labels, values)\n",
        "\n",
        "ax.set_title('Comparação de músicas populares explícitas e não-explícitas mais populares')\n",
        "ax.set_xlabel('Tipo de música')\n",
        "ax.set_ylabel('Número de músicas')\n",
        "\n",
        "plt.show()\n"
      ],
      "metadata": {
        "colab": {
          "base_uri": "https://localhost:8080/",
          "height": 473
        },
        "id": "qbrb2DH6CfIG",
        "outputId": "7490245b-b02d-48b5-a2b8-896f2c6c82d4"
      },
      "execution_count": null,
      "outputs": [
        {
          "output_type": "display_data",
          "data": {
            "text/plain": [
              "<Figure size 640x480 with 1 Axes>"
            ],
            "image/png": "[encoded data removed]"
          },
          "metadata": {}
        }
      ]
    },
    {
      "cell_type": "code",
      "source": [
        "#Consuntando o dataframe dfnd, verificamos as músicas e a popularidade de cada\n",
        "\n",
        "artistas_populares = dfnd.groupby('nome')['popularidade'].mean().sort_values(ascending=False)\n",
        "\n",
        "print(f'Top 50 musicas com maior popularidade média:\\n{artistas_populares.head(50)}')\n"
      ],
      "metadata": {
        "colab": {
          "base_uri": "https://localhost:8080/"
        },
        "id": "fwBU7M7QDKt9",
        "outputId": "c60fe5bd-6213-43c7-f021-a22150d0cb87"
      },
      "execution_count": null,
      "outputs": [
        {
          "output_type": "stream",
          "name": "stdout",
          "text": [
            "Top 50 musicas com maior popularidade média:\n",
            "nome\n",
            "yes, and?                                                      94.0\n",
            "BELLAKEO                                                       94.0\n",
            "DEJA VU                                                        91.0\n",
            "Me Leva Pra Casa / Escrito Nas Estrelas / Saudade - Ao Vivo    89.0\n",
            "Let's Go 4                                                     89.0\n",
            "Barulho Do Foguete - Ao Vivo                                   88.0\n",
            "POCPOC                                                         87.0\n",
            "Baile do Bruxo                                                 87.0\n",
            "Daqui pra Sempre                                               87.0\n",
            "Lapada Dela - Ao Vivo                                          86.0\n",
            "Manda um Oi - Ao Vivo                                          86.0\n",
            "Tenho Que Me Decidir                                           86.0\n",
            "Maria Mariah                                                   86.0\n",
            "10 Carros                                                      85.0\n",
            "Eu Não Previ - Ao Vivo em Goiânia                              85.0\n",
            "Tô Voltando - (Boiadeira Internacional)                        85.0\n",
            "Faz um Vuk Vuk (Teto Espelhado)                                85.0\n",
            "Não Recomendo - Ao Vivo                                        84.0\n",
            "Solteiro Forçado - Boiadeira Internacional                     84.0\n",
            "Tá OK                                                          84.0\n",
            "MEIO TERMO - Ao Vivo                                           84.0\n",
            "Um Mês E Pouco - Ao Vivo                                       84.0\n",
            "Última Noite - Ao Vivo                                         84.0\n",
            "Devia Ser Proibido - Ao Vivo Em Brasília                       84.0\n",
            "Anestesiado - Ao Vivo                                          84.0\n",
            "Bênçãos Que Não Têm Fim (Counting My Blessings)                84.0\n",
            "Milionário - Ao Vivo                                           83.0\n",
            "CHEIRO NA CAMISETA                                             83.0\n",
            "Loucura                                                        83.0\n",
            "MONTAGEM ANOS 2000                                             83.0\n",
            "Novo Balanço                                                   83.0\n",
            "Toca o Trompete                                                83.0\n",
            "Furduncinho do Rogerinho                                       82.0\n",
            "Joga Pra Lua                                                   82.0\n",
            "Tem Café                                                       82.0\n",
            "Ela - Ao Vivo                                                  82.0\n",
            "Dia de Fluxo                                                   82.0\n",
            "Duas Três                                                      82.0\n",
            "DENTRO DA HILUX                                                81.0\n",
            "Tipo Hollywood                                                 81.0\n",
            "Me Esqueça / Volta Pra Mim - Ao Vivo                           81.0\n",
            "Beijo Equivocado                                               81.0\n",
            "Revezamento de Cama - Ao Vivo                                  80.0\n",
            "Ballena                                                        80.0\n",
            "Sou Musa do Verão                                              80.0\n",
            "Cama Repetida                                                  79.0\n",
            "Meu Hobby - Ao Vivo                                            79.0\n",
            "Seu Brilho Sumiu - Ao Vivo                                     79.0\n",
            "Vestido Curto - Ao Vivo                                        79.0\n",
            "Poesia Acústica 15                                             78.0\n",
            "Name: popularidade, dtype: float64\n"
          ]
        }
      ]
    },
    {
      "cell_type": "code",
      "source": [
        "#Contando quais artistas mais apareceram na lista dfnd\n",
        "\n",
        "artistas_mais_frequentes = dfnd['artistas'].value_counts().head(10)\n",
        "print(f'Top 10 artistas que mais aparecem na lista:\\n{artistas_mais_frequentes}')\n"
      ],
      "metadata": {
        "colab": {
          "base_uri": "https://localhost:8080/"
        },
        "id": "7l6PRRxEn9hf",
        "outputId": "e99d1e4a-3f6e-449a-ffcd-e98dcf0bb991"
      },
      "execution_count": null,
      "outputs": [
        {
          "output_type": "stream",
          "name": "stdout",
          "text": [
            "Top 10 artistas que mais aparecem na lista:\n",
            "Zé Neto & Cristiano                                     3\n",
            "Henrique & Juliano                                      2\n",
            "Ana Castela                                             2\n",
            "Simone Mendes                                           2\n",
            "TR, Mc Menor RV, Tropa da W&S                           1\n",
            "MC Maneirinho, MC Tigrão, Mc Luan, DJ Arana, Karol X    1\n",
            "Filipe Ret                                              1\n",
            "Ana Castela, Gustavo Mioto                              1\n",
            "Gusttavo Lima, Ana Castela                              1\n",
            "Marshmello, Luísa Sonza                                 1\n",
            "Name: artistas, dtype: int64\n"
          ]
        }
      ]
    },
    {
      "cell_type": "code",
      "source": [],
      "metadata": {
        "id": "eA458S-D9xiD"
      },
      "execution_count": null,
      "outputs": []
    }
  ],
  "metadata": {
    "colab": {
      "provenance": [],
      "include_colab_link": true
    },
    "kernelspec": {
      "display_name": "Python 3",
      "name": "python3"
    },
    "language_info": {
      "name": "python"
    }
  },
  "nbformat": 4,
  "nbformat_minor": 0
}